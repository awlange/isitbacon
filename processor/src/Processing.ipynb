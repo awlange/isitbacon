{
 "cells": [
  {
   "cell_type": "markdown",
   "metadata": {},
   "source": [
    "# Data Preparation for IsItBacon"
   ]
  },
  {
   "cell_type": "code",
   "execution_count": 2,
   "metadata": {
    "collapsed": true
   },
   "outputs": [],
   "source": [
    "from PIL import Image\n",
    "import numpy as np\n",
    "import os"
   ]
  },
  {
   "cell_type": "markdown",
   "metadata": {},
   "source": [
    "## Thumbnail creation"
   ]
  },
  {
   "cell_type": "code",
   "execution_count": 5,
   "metadata": {
    "collapsed": false
   },
   "outputs": [],
   "source": [
    "# Parameters\n",
    "input_dir = \"../data/raw/kevin/\"\n",
    "output_dir = \"../data/thumbnails/kevin/\"\n",
    "size = (128, 128)\n",
    "\n",
    "index = 0\n",
    "for infile in os.listdir(input_dir):\n",
    "    if infile == \".DS_Store\":\n",
    "        continue\n",
    "    try:\n",
    "        im = Image.open(input_dir + infile)\n",
    "        \n",
    "        # Normalize size. Allow skewing.\n",
    "        outfile = \"{0:04d}\".format(index) + \".jpg\"\n",
    "        im = im.resize(size)\n",
    "        im.save(output_dir + outfile, \"JPEG\")\n",
    "        index += 1      \n",
    "        \n",
    "    except IOError:\n",
    "        print(\"cannot create thumbnail for\", infile)"
   ]
  },
  {
   "cell_type": "markdown",
   "metadata": {},
   "source": [
    "## Data matrix creation"
   ]
  },
  {
   "cell_type": "code",
   "execution_count": 8,
   "metadata": {
    "collapsed": false
   },
   "outputs": [],
   "source": [
    "# Read thumbnails, convert into row of data with label\n",
    "# Labels:\n",
    "# 0 = not kevin and not bacon\n",
    "# 1 = bacon\n",
    "# 2 = kevin\n",
    "label = 0\n",
    "input_dir = \"../data/thumbnails/not/\"\n",
    "output_dir = \"../data/matrix/\"\n",
    "output_filename = \"not.dat\"\n",
    "\n",
    "with open(output_dir + output_filename, \"wb\") as outfile:\n",
    "    for infile in os.listdir(input_dir):\n",
    "        if infile == \".DS_Store\":\n",
    "            continue\n",
    "        \n",
    "        im = Image.open(input_dir + infile)\n",
    "        im_converted = im.convert(mode=\"L\")\n",
    "        r_vec = []\n",
    "        g_vec = []\n",
    "        b_vec = []\n",
    "        l_vec = []\n",
    "        for i in range(0, 64):\n",
    "            for j in range(0, 64):\n",
    "                r, g, b = im.getpixel((i, j))\n",
    "                l = im_converted.getpixel((i, j))\n",
    "                r_vec.append(r)\n",
    "                g_vec.append(g)\n",
    "                b_vec.append(b)\n",
    "                l_vec.append(l)\n",
    "        #npa = np.asarray([label] + r_vec + g_vec + b_vec + l_vec, dtype=np.uint8)  # uint8 all we need\n",
    "#         npa = np.asarray(r_vec + g_vec + b_vec, dtype=np.uint8)  # uint8 all we need\n",
    "        npa = np.asarray(l_vec, dtype=np.uint8)  # uint8 all we need\n",
    "        npa.tofile(outfile)"
   ]
  },
  {
   "cell_type": "code",
   "execution_count": 12,
   "metadata": {
    "collapsed": false
   },
   "outputs": [
    {
     "data": {
      "text/plain": [
       "array([ 85, 123, 116, ..., 255, 255, 255], dtype=uint8)"
      ]
     },
     "execution_count": 12,
     "metadata": {},
     "output_type": "execute_result"
    }
   ],
   "source": [
    "# How to read in with numpy later\n",
    "f = open(\"../data/matrix/bacon.dat\", \"rb\")\n",
    "a = np.fromfile(f, dtype=np.uint8)\n",
    "a"
   ]
  },
  {
   "cell_type": "code",
   "execution_count": 13,
   "metadata": {
    "collapsed": false
   },
   "outputs": [
    {
     "data": {
      "text/plain": [
       "array([123, 116, 111,  97, 117,  90, 120,  87,  93, 124, 105, 125, 127,\n",
       "       125, 115, 131, 113,  89,  97, 115, 139, 151, 121, 158, 151, 132,\n",
       "       195, 120,  88,  78, 138, 100, 131, 116, 109,  97, 105, 117,  81,\n",
       "        77,  93, 108, 102, 165, 128, 122,  80,  86,  98,  79,  81,  71,\n",
       "        81,  58,  35,  71, 102, 102, 110, 114, 105, 109, 104], dtype=uint8)"
      ]
     },
     "execution_count": 13,
     "metadata": {},
     "output_type": "execute_result"
    }
   ],
   "source": [
    "a[1:64]"
   ]
  },
  {
   "cell_type": "code",
   "execution_count": null,
   "metadata": {
    "collapsed": true
   },
   "outputs": [],
   "source": []
  }
 ],
 "metadata": {
  "kernelspec": {
   "display_name": "Python 3",
   "language": "python",
   "name": "python3"
  },
  "language_info": {
   "codemirror_mode": {
    "name": "ipython",
    "version": 3
   },
   "file_extension": ".py",
   "mimetype": "text/x-python",
   "name": "python",
   "nbconvert_exporter": "python",
   "pygments_lexer": "ipython3",
   "version": "3.4.3"
  }
 },
 "nbformat": 4,
 "nbformat_minor": 0
}
