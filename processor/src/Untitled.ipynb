{
 "cells": [
  {
   "cell_type": "markdown",
   "metadata": {},
   "source": [
    "# Data Preparation for IsItBacon"
   ]
  },
  {
   "cell_type": "code",
   "execution_count": 103,
   "metadata": {
    "collapsed": true
   },
   "outputs": [],
   "source": [
    "from PIL import Image\n",
    "import numpy as np\n",
    "import os"
   ]
  },
  {
   "cell_type": "markdown",
   "metadata": {},
   "source": [
    "## Thumbnail creation"
   ]
  },
  {
   "cell_type": "code",
   "execution_count": 108,
   "metadata": {
    "collapsed": false
   },
   "outputs": [],
   "source": [
    "# Parameters\n",
    "input_dir = \"../data/raw/kevin/\"\n",
    "output_dir = \"../data/thumbnails/kevin/\"\n",
    "size = (128, 128)\n",
    "\n",
    "index = 0\n",
    "for infile in os.listdir(input_dir):\n",
    "    if infile == \".DS_Store\":\n",
    "        continue\n",
    "    try:\n",
    "        im = Image.open(input_dir + infile)\n",
    "        \n",
    "        # Normalize size. Allow skewing.\n",
    "        outfile = \"{0:04d}\".format(index) + \".jpg\"\n",
    "        im = im.resize(size)\n",
    "        im.save(output_dir + outfile, \"JPEG\")\n",
    "        index += 1      \n",
    "        \n",
    "    except IOError:\n",
    "        print(\"cannot create thumbnail for\", infile)"
   ]
  },
  {
   "cell_type": "code",
   "execution_count": null,
   "metadata": {
    "collapsed": true
   },
   "outputs": [],
   "source": [
    "im = Image.open(\"../data/raw/bacon/105739.jpg\")\n",
    "im.rotate(2, )"
   ]
  },
  {
   "cell_type": "code",
   "execution_count": 105,
   "metadata": {
    "collapsed": true
   },
   "outputs": [],
   "source": [
    "im = Image.open(\"../data/thumbnails/bacon/0000.jpg\")"
   ]
  },
  {
   "cell_type": "code",
   "execution_count": 51,
   "metadata": {
    "collapsed": false
   },
   "outputs": [
    {
     "data": {
      "text/plain": [
       "(209, 100, 57)"
      ]
     },
     "execution_count": 51,
     "metadata": {},
     "output_type": "execute_result"
    }
   ],
   "source": [
    "im.getpixel((84,89))"
   ]
  },
  {
   "cell_type": "code",
   "execution_count": 52,
   "metadata": {
    "collapsed": false
   },
   "outputs": [
    {
     "data": {
      "text/plain": [
       "127"
      ]
     },
     "execution_count": 52,
     "metadata": {},
     "output_type": "execute_result"
    }
   ],
   "source": [
    "im.convert(mode=\"L\").getpixel((84,89))"
   ]
  },
  {
   "cell_type": "markdown",
   "metadata": {},
   "source": [
    "## Data matrix creation"
   ]
  },
  {
   "cell_type": "code",
   "execution_count": 110,
   "metadata": {
    "collapsed": false
   },
   "outputs": [],
   "source": [
    "# Read thumbnails, convert into row of data with label\n",
    "# Labels:\n",
    "# 0 = not kevin and not bacon\n",
    "# 1 = bacon\n",
    "# 2 = kevin\n",
    "label = 2\n",
    "input_dir = \"../data/thumbnails/kevin/\"\n",
    "output_dir = \"../data/matrix/\"\n",
    "output_filename = \"kevin.dat\"\n",
    "\n",
    "with open(output_dir + output_filename, \"wb\") as outfile:\n",
    "    for infile in os.listdir(input_dir):\n",
    "        if infile == \".DS_Store\":\n",
    "            continue\n",
    "        \n",
    "        im = Image.open(input_dir + infile)\n",
    "        im_converted = im.convert(mode=\"L\")\n",
    "        r_vec = []\n",
    "        g_vec = []\n",
    "        b_vec = []\n",
    "        l_vec = []\n",
    "        for i in range(0, 128):\n",
    "            for j in range(0, 128):\n",
    "                r, g, b = im.getpixel((i, j))\n",
    "                l = im_converted.getpixel((i, j))\n",
    "                r_vec.append(r)\n",
    "                g_vec.append(g)\n",
    "                b_vec.append(b)\n",
    "                l_vec.append(l)\n",
    "        npa = np.asarray([label] + r_vec + g_vec + b_vec + l_vec, dtype=np.uint8)  # uint8 all we need\n",
    "        npa.tofile(outfile)"
   ]
  },
  {
   "cell_type": "code",
   "execution_count": 98,
   "metadata": {
    "collapsed": false
   },
   "outputs": [
    {
     "data": {
      "text/plain": [
       "array([  1, 255, 255, ..., 255, 255, 255], dtype=uint8)"
      ]
     },
     "execution_count": 98,
     "metadata": {},
     "output_type": "execute_result"
    }
   ],
   "source": [
    "# How to read in with numpy later\n",
    "f = open(\"../data/matrix/bacon.dat\", \"rb\")\n",
    "a = np.fromfile(f, dtype=np.uint8)\n",
    "a"
   ]
  },
  {
   "cell_type": "code",
   "execution_count": 102,
   "metadata": {
    "collapsed": false
   },
   "outputs": [
    {
     "data": {
      "text/plain": [
       "array([255, 255, 255, 255, 255, 255, 255, 255, 255, 255, 255, 255, 255,\n",
       "       255, 255, 255, 255, 255, 255, 255, 255, 255, 255, 255, 255, 254,\n",
       "       252, 251, 249, 248, 248, 247, 255, 255, 255, 255, 255, 255, 255,\n",
       "       255, 241, 242, 239, 244, 251, 255, 255, 255, 246, 235, 238, 237,\n",
       "       230, 247, 255, 251, 255, 254, 236, 236, 239, 243, 255, 255, 255,\n",
       "       255, 255, 255, 255, 255, 249, 244, 239, 236, 236, 239, 243, 248,\n",
       "       254, 255, 255, 255, 255, 255, 255, 254, 254, 254, 255, 255, 255,\n",
       "       255, 255, 255, 255, 255, 255, 255, 255, 255, 255, 255, 255, 255,\n",
       "       255, 255, 255, 255, 255, 255, 255, 255, 254, 254, 254, 254, 254,\n",
       "       254, 254, 254, 254, 254, 254, 254, 254, 254, 254], dtype=uint8)"
      ]
     },
     "execution_count": 102,
     "metadata": {},
     "output_type": "execute_result"
    }
   ],
   "source": [
    "a[1:128]"
   ]
  },
  {
   "cell_type": "code",
   "execution_count": null,
   "metadata": {
    "collapsed": true
   },
   "outputs": [],
   "source": []
  }
 ],
 "metadata": {
  "kernelspec": {
   "display_name": "Python 3",
   "language": "python",
   "name": "python3"
  },
  "language_info": {
   "codemirror_mode": {
    "name": "ipython",
    "version": 3
   },
   "file_extension": ".py",
   "mimetype": "text/x-python",
   "name": "python",
   "nbconvert_exporter": "python",
   "pygments_lexer": "ipython3",
   "version": "3.4.3"
  }
 },
 "nbformat": 4,
 "nbformat_minor": 0
}
