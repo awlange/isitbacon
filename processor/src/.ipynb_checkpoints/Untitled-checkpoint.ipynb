{
 "cells": [
  {
   "cell_type": "code",
   "execution_count": 21,
   "metadata": {
    "collapsed": true
   },
   "outputs": [],
   "source": [
    "from PIL import Image\n",
    "import os"
   ]
  },
  {
   "cell_type": "code",
   "execution_count": 24,
   "metadata": {
    "collapsed": true
   },
   "outputs": [],
   "source": [
    "input_dir = \"../data/raw/bacon/\"\n",
    "output_dir = \"../data/thumbnails/bacon/\"\n",
    "\n",
    "size = (128, 128)"
   ]
  },
  {
   "cell_type": "code",
   "execution_count": 39,
   "metadata": {
    "collapsed": false
   },
   "outputs": [],
   "source": [
    "index = 0\n",
    "for infile in os.listdir(input_dir):\n",
    "    try:\n",
    "        im = Image.open(input_dir + infile)\n",
    "        \n",
    "        # Normalize size. Allow skewing.\n",
    "        outfile = \"{0:04d}\".format(index) + \".jpg\"\n",
    "        im = im.resize(size)\n",
    "        im.save(output_dir + outfile, \"JPEG\")\n",
    "        index += 1\n",
    "        \n",
    "        # Also save a vertical reflection for additional data.\n",
    "        outfile = \"{0:04d}\".format(index) + \".jpg\"\n",
    "        im = im.transpose(Image.FLIP_LEFT_RIGHT)\n",
    "        im.save(output_dir + outfile, \"JPEG\")\n",
    "        index += 1\n",
    "        \n",
    "    except IOError:\n",
    "        print(\"cannot create thumbnail for\", infile)"
   ]
  },
  {
   "cell_type": "code",
   "execution_count": null,
   "metadata": {
    "collapsed": true
   },
   "outputs": [],
   "source": []
  }
 ],
 "metadata": {
  "kernelspec": {
   "display_name": "Python 3",
   "language": "python",
   "name": "python3"
  },
  "language_info": {
   "codemirror_mode": {
    "name": "ipython",
    "version": 3
   },
   "file_extension": ".py",
   "mimetype": "text/x-python",
   "name": "python",
   "nbconvert_exporter": "python",
   "pygments_lexer": "ipython3",
   "version": "3.4.3"
  }
 },
 "nbformat": 4,
 "nbformat_minor": 0
}
