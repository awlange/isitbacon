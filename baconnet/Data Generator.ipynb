{
 "cells": [
  {
   "cell_type": "markdown",
   "metadata": {},
   "source": [
    "# Generate more data"
   ]
  },
  {
   "cell_type": "code",
   "execution_count": 58,
   "metadata": {
    "collapsed": true
   },
   "outputs": [],
   "source": [
    "import numpy as np\n",
    "import time"
   ]
  },
  {
   "cell_type": "markdown",
   "metadata": {},
   "source": [
    "## Read input data and generate more data\n",
    "Generate more data:\n",
    "- Vertical reflection\n",
    "- Single pixel translations (up, down, left, right) with wrapping\n",
    "\n",
    "Will results in (1 original) + (1 reflection) + (4 orig trans) + (4 refl trans) = 10x the data."
   ]
  },
  {
   "cell_type": "code",
   "execution_count": 59,
   "metadata": {
    "collapsed": true
   },
   "outputs": [],
   "source": [
    "data_bacon_file = open(\"../processor/data/matrix/bacon.dat\", \"rb\")\n",
    "bacon_data = np.fromfile(data_bacon_file, dtype=np.uint8)\n",
    "# 100 images, 4 channels (R,G,B,L), 64x64 pixels\n",
    "bacon_data = bacon_data.reshape((100, 4, 64, 64))\n",
    "data_bacon_file.close()"
   ]
  },
  {
   "cell_type": "code",
   "execution_count": 60,
   "metadata": {
    "collapsed": true
   },
   "outputs": [],
   "source": [
    "data_kevin_file = open(\"../processor/data/matrix/kevin.dat\", \"rb\")\n",
    "kevin_data = np.fromfile(data_kevin_file, dtype=np.uint8)\n",
    "# 100 images, 4 channels (R,G,B,L), 64x64 pixels\n",
    "kevin_data = kevin_data.reshape((100, 4, 64, 64))\n",
    "data_kevin_file.close()"
   ]
  },
  {
   "cell_type": "code",
   "execution_count": 61,
   "metadata": {
    "collapsed": false
   },
   "outputs": [],
   "source": [
    "data_not_file = open(\"../processor/data/matrix/not.dat\", \"rb\")\n",
    "not_data = np.fromfile(data_not_file, dtype=np.uint8)\n",
    "# 200 images, 4 channels (R,G,B,L), 64x64 pixels\n",
    "not_data = not_data.reshape((200, 4, 64, 64))\n",
    "data_not_file.close()"
   ]
  },
  {
   "cell_type": "code",
   "execution_count": 5,
   "metadata": {
    "collapsed": false
   },
   "outputs": [],
   "source": [
    "# Reflection about vertical axis\n",
    "def reflect_about_vertical(data):\n",
    "    reflected_images = []\n",
    "    for image in data:\n",
    "        reflected_channels = []\n",
    "        for channel in image:\n",
    "            reflected_rows = []\n",
    "            for row in channel:\n",
    "                reflected_rows.append(row[::-1].tolist())\n",
    "            reflected_channels.append(reflected_rows)\n",
    "        reflected_images.append(reflected_channels)\n",
    "    return np.asarray(reflected_images, dtype=np.uint8)"
   ]
  },
  {
   "cell_type": "code",
   "execution_count": 62,
   "metadata": {
    "collapsed": false
   },
   "outputs": [],
   "source": [
    "refl_bacon_data = reflect_about_vertical(bacon_data)\n",
    "refl_kevin_data = reflect_about_vertical(kevin_data)\n",
    "refl_not_data = reflect_about_vertical(not_data)"
   ]
  },
  {
   "cell_type": "code",
   "execution_count": 63,
   "metadata": {
    "collapsed": true
   },
   "outputs": [],
   "source": [
    "# Translation with wrapping\n",
    "def translate(data, direction=None):\n",
    "    if direction is None or direction not in [\"up\", \"down\", \"left\", \"right\"]:\n",
    "        return None\n",
    "    \n",
    "    trans_images = []\n",
    "    for image in data:\n",
    "        trans_channels = []\n",
    "        for channel in image:\n",
    "            \n",
    "            if direction == \"right\":\n",
    "                trans_rows = []\n",
    "                for row in channel:\n",
    "                    trans_rows.append([row[-1]] + row[:-1].tolist())\n",
    "                trans_channels.append(trans_rows)\n",
    "            elif direction == \"left\":\n",
    "                trans_rows = []\n",
    "                for row in channel:\n",
    "                    trans_rows.append(row[1:].tolist() + [row[0]])\n",
    "                trans_channels.append(trans_rows)\n",
    "            elif direction == \"up\":\n",
    "                tmp1 = channel[1:].tolist()\n",
    "                tmp2 = channel[0].tolist()\n",
    "                tmp1.append(tmp2)\n",
    "                trans_channels.append(tmp1)\n",
    "            elif direction == \"down\":\n",
    "                tmp1 = [channel[-1].tolist()]\n",
    "                tmp2 = channel[:-1].tolist()\n",
    "                tmp1 = tmp1 + tmp2\n",
    "                trans_channels.append(tmp1)\n",
    "            \n",
    "        trans_images.append(trans_channels)\n",
    "    return np.asarray(trans_images, dtype=np.uint8)"
   ]
  },
  {
   "cell_type": "code",
   "execution_count": null,
   "metadata": {
    "collapsed": true
   },
   "outputs": [],
   "source": [
    "# Hmm. This is a bit repetitive... but oh well"
   ]
  },
  {
   "cell_type": "code",
   "execution_count": 64,
   "metadata": {
    "collapsed": true
   },
   "outputs": [],
   "source": [
    "orig_trans_bacon_data = []\n",
    "refl_trans_bacon_data = []\n",
    "for d in [\"up\", \"down\", \"left\", \"right\"]:\n",
    "    orig_trans_bacon_data.append(translate(bacon_data, d))\n",
    "    refl_trans_bacon_data.append(translate(refl_bacon_data, d))"
   ]
  },
  {
   "cell_type": "code",
   "execution_count": 65,
   "metadata": {
    "collapsed": true
   },
   "outputs": [],
   "source": [
    "orig_trans_kevin_data = []\n",
    "refl_trans_kevin_data = []\n",
    "for d in [\"up\", \"down\", \"left\", \"right\"]:\n",
    "    orig_trans_kevin_data.append(translate(kevin_data, d))\n",
    "    refl_trans_kevin_data.append(translate(refl_kevin_data, d))"
   ]
  },
  {
   "cell_type": "code",
   "execution_count": 66,
   "metadata": {
    "collapsed": true
   },
   "outputs": [],
   "source": [
    "orig_trans_not_data = []\n",
    "refl_trans_not_data = []\n",
    "for d in [\"up\", \"down\", \"left\", \"right\"]:\n",
    "    orig_trans_not_data.append(translate(not_data, d))\n",
    "    refl_trans_not_data.append(translate(refl_not_data, d))"
   ]
  },
  {
   "cell_type": "code",
   "execution_count": 67,
   "metadata": {
    "collapsed": true
   },
   "outputs": [],
   "source": [
    "all_bacon_data = np.asarray([bacon_data] + [refl_bacon_data] + orig_trans_bacon_data + refl_trans_bacon_data)\n",
    "all_kevin_data = np.asarray([kevin_data] + [refl_kevin_data] + orig_trans_kevin_data + refl_trans_kevin_data)\n",
    "all_not_data = np.asarray([not_data] + [refl_not_data] + orig_trans_not_data + refl_trans_not_data)"
   ]
  },
  {
   "cell_type": "markdown",
   "metadata": {},
   "source": [
    "## Save generated data\n",
    "So that we don't have to do this over an over."
   ]
  },
  {
   "cell_type": "code",
   "execution_count": 68,
   "metadata": {
    "collapsed": false
   },
   "outputs": [],
   "source": [
    "all_bacon_data.tofile(\"generated_data/all_bacon_data.dat\")\n",
    "all_kevin_data.tofile(\"generated_data/all_kevin_data.dat\")\n",
    "all_not_data.tofile(\"generated_data/all_not_data.dat\")"
   ]
  },
  {
   "cell_type": "code",
   "execution_count": 23,
   "metadata": {
    "collapsed": true
   },
   "outputs": [],
   "source": [
    "x = np.empty(10, dtype=np.uint8)\n",
    "x.fill(3)\n",
    "y = np.empty(10, dtype=np.uint8)\n",
    "y.fill(7)"
   ]
  },
  {
   "cell_type": "code",
   "execution_count": 27,
   "metadata": {
    "collapsed": false
   },
   "outputs": [
    {
     "data": {
      "text/plain": [
       "array([ 7.,  7.,  7.,  7.,  7.,  7.,  7.,  7.,  7.,  7.], dtype=float32)"
      ]
     },
     "execution_count": 27,
     "metadata": {},
     "output_type": "execute_result"
    }
   ],
   "source": [
    "y.astype(np.float32)"
   ]
  },
  {
   "cell_type": "code",
   "execution_count": 21,
   "metadata": {
    "collapsed": false
   },
   "outputs": [],
   "source": [
    "x = np.concatenate((bacon_data, kevin_data, not_data))"
   ]
  },
  {
   "cell_type": "code",
   "execution_count": 22,
   "metadata": {
    "collapsed": false
   },
   "outputs": [
    {
     "data": {
      "text/plain": [
       "400"
      ]
     },
     "execution_count": 22,
     "metadata": {},
     "output_type": "execute_result"
    }
   ],
   "source": [
    "len(x)"
   ]
  },
  {
   "cell_type": "markdown",
   "metadata": {},
   "source": [
    "## Prepare data splits for training\n",
    "Write the splits so that we have a static set of train/validation/test and don't have to do this all the time."
   ]
  },
  {
   "cell_type": "code",
   "execution_count": 69,
   "metadata": {
    "collapsed": true
   },
   "outputs": [],
   "source": [
    "def shuffle_in_unison_inplace(a, b):\n",
    "    p = np.random.permutation(len(a))\n",
    "    return a[p], b[p]\n",
    "\n",
    "def load_and_prepare_dataset():\n",
    "    t_start = time.time()\n",
    "\n",
    "    # Read in data\n",
    "    data_bacon_file = open(\"generated_data/all_bacon_data.dat\", \"rb\")\n",
    "    data_kevin_file = open(\"generated_data/all_kevin_data.dat\", \"rb\")\n",
    "    data_not_file = open(\"generated_data/all_not_data.dat\", \"rb\")\n",
    "    bacon_data = np.fromfile(data_bacon_file, dtype=np.uint8)\n",
    "    kevin_data = np.fromfile(data_kevin_file, dtype=np.uint8)\n",
    "    not_data = np.fromfile(data_not_file, dtype=np.uint8)\n",
    "    \n",
    "    bacon_data = bacon_data.reshape((-1, 4, 64, 64))\n",
    "    kevin_data = kevin_data.reshape((-1, 4, 64, 64))\n",
    "    not_data = not_data.reshape((-1, 4, 64, 64))\n",
    "    \n",
    "    print(\"-- Files read\")\n",
    "\n",
    "    # Map classes to numbers\n",
    "    y_bacon = np.empty(len(bacon_data), dtype=np.uint8)\n",
    "    y_kevin = np.empty(len(kevin_data), dtype=np.uint8)\n",
    "    y_not = np.empty(len(not_data), dtype=np.uint8)\n",
    "    y_not.fill(0)\n",
    "    y_bacon.fill(1)\n",
    "    y_kevin.fill(2)\n",
    "\n",
    "    # Coalesce the data\n",
    "    X = np.concatenate((not_data, bacon_data, kevin_data))\n",
    "    y = np.concatenate((y_not, y_bacon, y_kevin))\n",
    "    print(\"-- Data coalesced\")\n",
    "\n",
    "    # Cast X data as floating point (single precision)\n",
    "    X = X.astype(np.float32)\n",
    "\n",
    "    # Randomize the order\n",
    "    X, y = shuffle_in_unison_inplace(X, y)\n",
    "    print(\"-- Data shuffled\")\n",
    "\n",
    "    # Break into 80:10:10 train:validation:test\n",
    "    X_test = X[:(len(X) // 10)]\n",
    "    X_val = X[(len(X) // 10):(2 * (len(X) // 10))]\n",
    "    X_train = X[(2 * (len(X) // 10)):]\n",
    "\n",
    "    y_test = y[:(len(y) // 10)]\n",
    "    y_val = y[(len(y) // 10):(2 * (len(y) // 10))]\n",
    "    y_train = y[(2 * (len(y) // 10)):]\n",
    "    print(\"-- Data split\")\n",
    "\n",
    "    print(\"Time to load and prepare data: {}\".format(time.time() - t_start))\n",
    "    return X_train, y_train, X_val, y_val, X_test, y_test"
   ]
  },
  {
   "cell_type": "code",
   "execution_count": 42,
   "metadata": {
    "collapsed": false
   },
   "outputs": [],
   "source": [
    "y_bacon = np.empty(len(bacon_data), dtype=np.uint8)\n",
    "y_kevin = np.empty(len(kevin_data), dtype=np.uint8)\n",
    "y_bacon.fill(1)\n",
    "y_kevin.fill(2)\n",
    "y = np.concatenate((y_bacon, y_kevin))"
   ]
  },
  {
   "cell_type": "code",
   "execution_count": 53,
   "metadata": {
    "collapsed": false
   },
   "outputs": [
    {
     "data": {
      "text/plain": [
       "1000"
      ]
     },
     "execution_count": 53,
     "metadata": {},
     "output_type": "execute_result"
    }
   ],
   "source": [
    "bacon_data = np.fromfile(\"generated_data/all_bacon_data.dat\", dtype=np.uint8)\n",
    "bacon_data = bacon_data.reshape((-1, 4, 128, 128))\n",
    "len(bacon_data)"
   ]
  },
  {
   "cell_type": "code",
   "execution_count": 43,
   "metadata": {
    "collapsed": false
   },
   "outputs": [
    {
     "data": {
      "text/plain": [
       "200"
      ]
     },
     "execution_count": 43,
     "metadata": {},
     "output_type": "execute_result"
    }
   ],
   "source": [
    "len(y)"
   ]
  },
  {
   "cell_type": "code",
   "execution_count": 70,
   "metadata": {
    "collapsed": false
   },
   "outputs": [
    {
     "name": "stdout",
     "output_type": "stream",
     "text": [
      "-- Files read\n",
      "-- Data coalesced\n",
      "-- Data shuffled\n",
      "-- Data split\n",
      "Time to load and prepare data: 0.34552812576293945\n"
     ]
    }
   ],
   "source": [
    "X_train, y_train, X_val, y_val, X_test, y_test = load_and_prepare_dataset()\n",
    "\n",
    "# Save sets to disk\n",
    "X_train.tofile(\"generated_data/X_train.dat\")\n",
    "X_val.tofile(\"generated_data/X_val.dat\")\n",
    "X_test.tofile(\"generated_data/X_test.dat\")\n",
    "\n",
    "y_train.tofile(\"generated_data/y_train.dat\")\n",
    "y_val.tofile(\"generated_data/y_val.dat\")\n",
    "y_test.tofile(\"generated_data/y_test.dat\")"
   ]
  },
  {
   "cell_type": "code",
   "execution_count": 73,
   "metadata": {
    "collapsed": false
   },
   "outputs": [
    {
     "data": {
      "text/plain": [
       "8"
      ]
     },
     "execution_count": 73,
     "metadata": {},
     "output_type": "execute_result"
    }
   ],
   "source": [
    "len(y_train) // 400"
   ]
  },
  {
   "cell_type": "code",
   "execution_count": null,
   "metadata": {
    "collapsed": true
   },
   "outputs": [],
   "source": []
  }
 ],
 "metadata": {
  "kernelspec": {
   "display_name": "Python 3",
   "language": "python",
   "name": "python3"
  },
  "language_info": {
   "codemirror_mode": {
    "name": "ipython",
    "version": 3
   },
   "file_extension": ".py",
   "mimetype": "text/x-python",
   "name": "python",
   "nbconvert_exporter": "python",
   "pygments_lexer": "ipython3",
   "version": "3.4.3"
  }
 },
 "nbformat": 4,
 "nbformat_minor": 0
}
