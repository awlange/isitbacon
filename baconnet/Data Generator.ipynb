{
 "cells": [
  {
   "cell_type": "markdown",
   "metadata": {},
   "source": [
    "# Generate more data"
   ]
  },
  {
   "cell_type": "code",
   "execution_count": 40,
   "metadata": {
    "collapsed": true
   },
   "outputs": [],
   "source": [
    "import numpy as np\n",
    "import time"
   ]
  },
  {
   "cell_type": "markdown",
   "metadata": {},
   "source": [
    "## Read input data and generate more data\n",
    "Generate more data:\n",
    "- Vertical reflection\n",
    "- Single pixel translations (up, down, left, right) with wrapping\n",
    "\n",
    "Will results in (1 original) + (1 reflection) + (4 orig trans) + (4 refl trans) = 10x the data."
   ]
  },
  {
   "cell_type": "code",
   "execution_count": 41,
   "metadata": {
    "collapsed": false
   },
   "outputs": [],
   "source": [
    "data_bacon_file = open(\"../processor/data/matrix/bacon.dat\", \"rb\")\n",
    "bacon_data = np.fromfile(data_bacon_file, dtype=np.uint8)\n",
    "# 100 images, 4 channels (R,G,B,L), 64x64 pixels\n",
    "bacon_data = bacon_data.reshape((100, 1, 128, 128))\n",
    "data_bacon_file.close()"
   ]
  },
  {
   "cell_type": "code",
   "execution_count": 42,
   "metadata": {
    "collapsed": true
   },
   "outputs": [],
   "source": [
    "data_kevin_file = open(\"../processor/data/matrix/kevin.dat\", \"rb\")\n",
    "kevin_data = np.fromfile(data_kevin_file, dtype=np.uint8)\n",
    "# 100 images, 4 channels (R,G,B,L), 64x64 pixels\n",
    "kevin_data = kevin_data.reshape((100, 1, 128, 128))\n",
    "data_kevin_file.close()"
   ]
  },
  {
   "cell_type": "code",
   "execution_count": 43,
   "metadata": {
    "collapsed": false
   },
   "outputs": [],
   "source": [
    "data_not_file = open(\"../processor/data/matrix/not.dat\", \"rb\")\n",
    "not_data = np.fromfile(data_not_file, dtype=np.uint8)\n",
    "# 200 images, 4 channels (R,G,B,L), 64x64 pixels\n",
    "not_data = not_data.reshape((200, 1, 128, 128))\n",
    "data_not_file.close()"
   ]
  },
  {
   "cell_type": "code",
   "execution_count": 44,
   "metadata": {
    "collapsed": false
   },
   "outputs": [],
   "source": [
    "# Reflection about vertical axis\n",
    "def reflect_about_vertical(data):\n",
    "    reflected_images = []\n",
    "    for image in data:\n",
    "        reflected_channels = []\n",
    "        for channel in image:\n",
    "            reflected_rows = []\n",
    "            for row in channel:\n",
    "                reflected_rows.append(row[::-1].tolist())\n",
    "            reflected_channels.append(reflected_rows)\n",
    "        reflected_images.append(reflected_channels)\n",
    "    return np.asarray(reflected_images, dtype=np.uint8)"
   ]
  },
  {
   "cell_type": "code",
   "execution_count": 45,
   "metadata": {
    "collapsed": false
   },
   "outputs": [],
   "source": [
    "refl_bacon_data = reflect_about_vertical(bacon_data)\n",
    "refl_kevin_data = reflect_about_vertical(kevin_data)\n",
    "refl_not_data = reflect_about_vertical(not_data)"
   ]
  },
  {
   "cell_type": "code",
   "execution_count": 46,
   "metadata": {
    "collapsed": true
   },
   "outputs": [],
   "source": [
    "# Translation with wrapping\n",
    "def translate(data, direction=None):\n",
    "    if direction is None or direction not in [\"up\", \"down\", \"left\", \"right\"]:\n",
    "        return None\n",
    "    \n",
    "    trans_images = []\n",
    "    for image in data:\n",
    "        trans_channels = []\n",
    "        for channel in image:\n",
    "            \n",
    "            if direction == \"right\":\n",
    "                trans_rows = []\n",
    "                for row in channel:\n",
    "                    trans_rows.append([row[-1]] + row[:-1].tolist())\n",
    "                trans_channels.append(trans_rows)\n",
    "            elif direction == \"left\":\n",
    "                trans_rows = []\n",
    "                for row in channel:\n",
    "                    trans_rows.append(row[1:].tolist() + [row[0]])\n",
    "                trans_channels.append(trans_rows)\n",
    "            elif direction == \"up\":\n",
    "                tmp1 = channel[1:].tolist()\n",
    "                tmp2 = channel[0].tolist()\n",
    "                tmp1.append(tmp2)\n",
    "                trans_channels.append(tmp1)\n",
    "            elif direction == \"down\":\n",
    "                tmp1 = [channel[-1].tolist()]\n",
    "                tmp2 = channel[:-1].tolist()\n",
    "                tmp1 = tmp1 + tmp2\n",
    "                trans_channels.append(tmp1)\n",
    "            \n",
    "        trans_images.append(trans_channels)\n",
    "    return np.asarray(trans_images, dtype=np.uint8)"
   ]
  },
  {
   "cell_type": "code",
   "execution_count": null,
   "metadata": {
    "collapsed": true
   },
   "outputs": [],
   "source": [
    "# Hmm. This is a bit repetitive... but oh well"
   ]
  },
  {
   "cell_type": "code",
   "execution_count": 47,
   "metadata": {
    "collapsed": true
   },
   "outputs": [],
   "source": [
    "orig_trans_bacon_data = []\n",
    "refl_trans_bacon_data = []\n",
    "for d in [\"up\", \"down\", \"left\", \"right\"]:\n",
    "    orig_trans_bacon_data.append(translate(bacon_data, d))\n",
    "    refl_trans_bacon_data.append(translate(refl_bacon_data, d))"
   ]
  },
  {
   "cell_type": "code",
   "execution_count": 48,
   "metadata": {
    "collapsed": true
   },
   "outputs": [],
   "source": [
    "orig_trans_kevin_data = []\n",
    "refl_trans_kevin_data = []\n",
    "for d in [\"up\", \"down\", \"left\", \"right\"]:\n",
    "    orig_trans_kevin_data.append(translate(kevin_data, d))\n",
    "    refl_trans_kevin_data.append(translate(refl_kevin_data, d))"
   ]
  },
  {
   "cell_type": "code",
   "execution_count": 49,
   "metadata": {
    "collapsed": true
   },
   "outputs": [],
   "source": [
    "orig_trans_not_data = []\n",
    "refl_trans_not_data = []\n",
    "for d in [\"up\", \"down\", \"left\", \"right\"]:\n",
    "    orig_trans_not_data.append(translate(not_data, d))\n",
    "    refl_trans_not_data.append(translate(refl_not_data, d))"
   ]
  },
  {
   "cell_type": "code",
   "execution_count": 50,
   "metadata": {
    "collapsed": true
   },
   "outputs": [],
   "source": [
    "all_bacon_data = np.asarray([bacon_data] + [refl_bacon_data] + orig_trans_bacon_data + refl_trans_bacon_data)\n",
    "all_kevin_data = np.asarray([kevin_data] + [refl_kevin_data] + orig_trans_kevin_data + refl_trans_kevin_data)\n",
    "all_not_data = np.asarray([not_data] + [refl_not_data] + orig_trans_not_data + refl_trans_not_data)"
   ]
  },
  {
   "cell_type": "markdown",
   "metadata": {},
   "source": [
    "## Save generated data\n",
    "So that we don't have to do this over an over."
   ]
  },
  {
   "cell_type": "code",
   "execution_count": 51,
   "metadata": {
    "collapsed": false
   },
   "outputs": [],
   "source": [
    "all_bacon_data.tofile(\"generated_data/all_bacon_data.dat\")\n",
    "all_kevin_data.tofile(\"generated_data/all_kevin_data.dat\")\n",
    "all_not_data.tofile(\"generated_data/all_not_data.dat\")"
   ]
  },
  {
   "cell_type": "markdown",
   "metadata": {},
   "source": [
    "## Prepare data splits for training\n",
    "Write the splits so that we have a static set of train/validation/test and don't have to do this all the time."
   ]
  },
  {
   "cell_type": "code",
   "execution_count": 52,
   "metadata": {
    "collapsed": true
   },
   "outputs": [],
   "source": [
    "# Set seed for reproducibility across runs (e.g. for 64x64 vs. 128x128)\n",
    "np.random.seed(99)\n",
    "\n",
    "def shuffle_in_unison_inplace(a, b):\n",
    "    p = np.random.permutation(len(a))\n",
    "    return a[p], b[p]\n",
    "\n",
    "def load_and_prepare_dataset():\n",
    "    t_start = time.time()\n",
    "\n",
    "    # Read in data\n",
    "    data_bacon_file = open(\"generated_data/all_bacon_data.dat\", \"rb\")\n",
    "    data_kevin_file = open(\"generated_data/all_kevin_data.dat\", \"rb\")\n",
    "    data_not_file = open(\"generated_data/all_not_data.dat\", \"rb\")\n",
    "    bacon_data = np.fromfile(data_bacon_file, dtype=np.uint8)\n",
    "    kevin_data = np.fromfile(data_kevin_file, dtype=np.uint8)\n",
    "    not_data = np.fromfile(data_not_file, dtype=np.uint8)\n",
    "    \n",
    "    bacon_data = bacon_data.reshape((-1, 1, 128, 128))\n",
    "    kevin_data = kevin_data.reshape((-1, 1, 128, 128))\n",
    "    not_data = not_data.reshape((-1, 1, 128, 128))\n",
    "    \n",
    "    print(\"-- Files read\")\n",
    "\n",
    "    # Map classes to numbers\n",
    "    y_bacon = np.empty(len(bacon_data), dtype=np.uint8)\n",
    "    y_kevin = np.empty(len(kevin_data), dtype=np.uint8)\n",
    "    y_not = np.empty(len(not_data), dtype=np.uint8)\n",
    "    y_not.fill(0)\n",
    "    y_bacon.fill(1)\n",
    "    y_kevin.fill(2)\n",
    "\n",
    "    # Coalesce the data\n",
    "    X = np.concatenate((bacon_data, kevin_data))\n",
    "    y = np.concatenate((y_bacon, y_kevin))\n",
    "    print(\"-- Data coalesced\")\n",
    "\n",
    "    # Cast X data as floating point (single precision)\n",
    "    X = X.astype(np.float32)\n",
    "\n",
    "    # Randomize the order\n",
    "    X, y = shuffle_in_unison_inplace(X, y)\n",
    "    print(\"-- Data shuffled\")\n",
    "\n",
    "    # Break into 80:10:10 train:validation:test\n",
    "    X_test = X[:(len(X) // 10)]\n",
    "    X_val = X[(len(X) // 10):(2 * (len(X) // 10))]\n",
    "    X_train = X[(2 * (len(X) // 10)):]\n",
    "\n",
    "    y_test = y[:(len(y) // 10)]\n",
    "    y_val = y[(len(y) // 10):(2 * (len(y) // 10))]\n",
    "    y_train = y[(2 * (len(y) // 10)):]\n",
    "    print(\"-- Data split\")\n",
    "\n",
    "    print(\"Time to load and prepare data: {}\".format(time.time() - t_start))\n",
    "    return X_train, y_train, X_val, y_val, X_test, y_test"
   ]
  },
  {
   "cell_type": "code",
   "execution_count": 53,
   "metadata": {
    "collapsed": false
   },
   "outputs": [
    {
     "name": "stdout",
     "output_type": "stream",
     "text": [
      "-- Files read\n",
      "-- Data coalesced\n",
      "-- Data shuffled\n",
      "-- Data split\n",
      "Time to load and prepare data: 0.20145583152770996\n"
     ]
    }
   ],
   "source": [
    "X_train, y_train, X_val, y_val, X_test, y_test = load_and_prepare_dataset()\n",
    "\n",
    "# Save sets to disk\n",
    "X_train.tofile(\"generated_data/X_train.dat\")\n",
    "X_val.tofile(\"generated_data/X_val.dat\")\n",
    "X_test.tofile(\"generated_data/X_test.dat\")\n",
    "\n",
    "y_train.tofile(\"generated_data/y_train.dat\")\n",
    "y_val.tofile(\"generated_data/y_val.dat\")\n",
    "y_test.tofile(\"generated_data/y_test.dat\")"
   ]
  },
  {
   "cell_type": "code",
   "execution_count": 54,
   "metadata": {
    "collapsed": false
   },
   "outputs": [
    {
     "data": {
      "text/plain": [
       "1600"
      ]
     },
     "execution_count": 54,
     "metadata": {},
     "output_type": "execute_result"
    }
   ],
   "source": [
    "len(y_train)"
   ]
  },
  {
   "cell_type": "code",
   "execution_count": 5,
   "metadata": {
    "collapsed": true
   },
   "outputs": [],
   "source": [
    "y_bacon = np.empty(len(bacon_data), dtype=np.uint8)\n",
    "y_kevin = np.empty(len(kevin_data), dtype=np.uint8)\n",
    "y_not = np.empty(len(not_data), dtype=np.uint8)\n",
    "y_not.fill(0)\n",
    "y_bacon.fill(1)\n",
    "y_kevin.fill(2)"
   ]
  },
  {
   "cell_type": "code",
   "execution_count": 6,
   "metadata": {
    "collapsed": false
   },
   "outputs": [
    {
     "data": {
      "text/plain": [
       "100"
      ]
     },
     "execution_count": 6,
     "metadata": {},
     "output_type": "execute_result"
    }
   ],
   "source": [
    "len(bacon_data)"
   ]
  },
  {
   "cell_type": "code",
   "execution_count": 17,
   "metadata": {
    "collapsed": false
   },
   "outputs": [],
   "source": [
    "X = np.asarray([not_data[0], bacon_data[0], kevin_data[0]])\n",
    "y = np.asarray([0, 1, 2])"
   ]
  },
  {
   "cell_type": "code",
   "execution_count": 19,
   "metadata": {
    "collapsed": false
   },
   "outputs": [],
   "source": [
    "XX, yy = shuffle_in_unison_inplace(X, y)"
   ]
  },
  {
   "cell_type": "code",
   "execution_count": 21,
   "metadata": {
    "collapsed": false
   },
   "outputs": [
    {
     "data": {
      "text/plain": [
       "array([[[[  0,  39,  64, ...,  33,  40,  27],\n",
       "         [  0,  55,  86, ...,  37,  57, 118],\n",
       "         [  0,  62,  91, ...,  73,  48, 133],\n",
       "         ..., \n",
       "         [  0,  57,  87, ..., 154,  85, 157],\n",
       "         [  0,  56,  86, ...,  64,  84,  71],\n",
       "         [  0,  54,  86, ...,  60, 106, 174]],\n",
       "\n",
       "        [[ 19,  78, 132, ...,  29,  38,  27],\n",
       "         [  9,  92, 153, ...,  33,  55, 116],\n",
       "         [  5,  96, 156, ...,  69,  45, 131],\n",
       "         ..., \n",
       "         [  8,  91, 153, ..., 148,  74, 143],\n",
       "         [  6,  89, 152, ...,  57,  71,  54],\n",
       "         [  3,  87, 151, ...,  53,  93, 156]],\n",
       "\n",
       "        [[ 14,  95, 177, ...,   0,   0,   0],\n",
       "         [  3, 108, 195, ...,   0,  16,  78],\n",
       "         [  0, 106, 194, ...,  22,   4,  92],\n",
       "         ..., \n",
       "         [ 30, 118, 187, ..., 100,  28,  98],\n",
       "         [ 32, 120, 187, ...,  11,  27,  11],\n",
       "         [ 30, 120, 189, ...,   9,  51, 116]]],\n",
       "\n",
       "\n",
       "       [[[ 22,  24,  28, ..., 206, 237, 203],\n",
       "         [  9,  11,  20, ..., 211, 224, 214],\n",
       "         [  3,   2,  13, ..., 220, 216, 230],\n",
       "         ..., \n",
       "         [241, 242, 243, ..., 189, 217, 163],\n",
       "         [242, 242, 243, ..., 172, 212, 135],\n",
       "         [244, 244, 244, ..., 141,  91, 130]],\n",
       "\n",
       "        [[ 30,  29,  34, ..., 194, 225, 194],\n",
       "         [ 15,  17,  26, ..., 199, 212, 202],\n",
       "         [  7,   6,  17, ..., 206, 204, 218],\n",
       "         ..., \n",
       "         [225, 226, 227, ..., 165, 196, 144],\n",
       "         [227, 227, 228, ..., 148, 191, 114],\n",
       "         [229, 229, 229, ..., 115,  67, 109]],\n",
       "\n",
       "        [[ 32,  32,  34, ..., 182, 211, 179],\n",
       "         [ 15,  17,  26, ..., 187, 198, 188],\n",
       "         [  6,   5,  16, ..., 195, 190, 204],\n",
       "         ..., \n",
       "         [200, 201, 202, ..., 161, 191, 140],\n",
       "         [204, 204, 205, ..., 146, 188, 113],\n",
       "         [206, 206, 206, ..., 114,  67, 108]]],\n",
       "\n",
       "\n",
       "       [[[ 85, 123, 116, ..., 105, 109, 104],\n",
       "         [ 98,  97, 129, ...,  88,  92, 112],\n",
       "         [102,  89, 135, ..., 116, 106, 115],\n",
       "         ..., \n",
       "         [ 52, 108, 126, ..., 128, 118, 117],\n",
       "         [ 66,  90,  97, ..., 122, 112, 119],\n",
       "         [ 58,  68,  74, ...,  95, 101, 102]],\n",
       "\n",
       "        [[ 75, 112, 101, ..., 101, 104,  99],\n",
       "         [ 86,  83, 112, ...,  80,  83, 103],\n",
       "         [ 88,  74, 115, ..., 103,  92, 101],\n",
       "         ..., \n",
       "         [ 51, 103, 116, ..., 114, 100,  98],\n",
       "         [ 66,  85,  86, ..., 108,  94, 100],\n",
       "         [ 58,  65,  63, ...,  81,  86,  83]],\n",
       "\n",
       "        [[ 74, 108,  94, ..., 102, 108, 103],\n",
       "         [ 86,  80, 104, ...,  78,  84, 104],\n",
       "         [ 87,  69, 106, ...,  97,  89,  98],\n",
       "         ..., \n",
       "         [ 57, 109, 117, ..., 111,  96,  92],\n",
       "         [ 74,  92,  90, ..., 105,  90,  94],\n",
       "         [ 68,  72,  67, ...,  78,  81,  77]]]], dtype=uint8)"
      ]
     },
     "execution_count": 21,
     "metadata": {},
     "output_type": "execute_result"
    }
   ],
   "source": [
    "XX"
   ]
  },
  {
   "cell_type": "code",
   "execution_count": 22,
   "metadata": {
    "collapsed": false
   },
   "outputs": [
    {
     "data": {
      "text/plain": [
       "array([0, 2, 1])"
      ]
     },
     "execution_count": 22,
     "metadata": {},
     "output_type": "execute_result"
    }
   ],
   "source": [
    "yy"
   ]
  },
  {
   "cell_type": "code",
   "execution_count": 23,
   "metadata": {
    "collapsed": false
   },
   "outputs": [
    {
     "data": {
      "text/plain": [
       "array([[[[  0,  39,  64, ...,  33,  40,  27],\n",
       "         [  0,  55,  86, ...,  37,  57, 118],\n",
       "         [  0,  62,  91, ...,  73,  48, 133],\n",
       "         ..., \n",
       "         [  0,  57,  87, ..., 154,  85, 157],\n",
       "         [  0,  56,  86, ...,  64,  84,  71],\n",
       "         [  0,  54,  86, ...,  60, 106, 174]],\n",
       "\n",
       "        [[ 19,  78, 132, ...,  29,  38,  27],\n",
       "         [  9,  92, 153, ...,  33,  55, 116],\n",
       "         [  5,  96, 156, ...,  69,  45, 131],\n",
       "         ..., \n",
       "         [  8,  91, 153, ..., 148,  74, 143],\n",
       "         [  6,  89, 152, ...,  57,  71,  54],\n",
       "         [  3,  87, 151, ...,  53,  93, 156]],\n",
       "\n",
       "        [[ 14,  95, 177, ...,   0,   0,   0],\n",
       "         [  3, 108, 195, ...,   0,  16,  78],\n",
       "         [  0, 106, 194, ...,  22,   4,  92],\n",
       "         ..., \n",
       "         [ 30, 118, 187, ..., 100,  28,  98],\n",
       "         [ 32, 120, 187, ...,  11,  27,  11],\n",
       "         [ 30, 120, 189, ...,   9,  51, 116]]],\n",
       "\n",
       "\n",
       "       [[[ 85, 123, 116, ..., 105, 109, 104],\n",
       "         [ 98,  97, 129, ...,  88,  92, 112],\n",
       "         [102,  89, 135, ..., 116, 106, 115],\n",
       "         ..., \n",
       "         [ 52, 108, 126, ..., 128, 118, 117],\n",
       "         [ 66,  90,  97, ..., 122, 112, 119],\n",
       "         [ 58,  68,  74, ...,  95, 101, 102]],\n",
       "\n",
       "        [[ 75, 112, 101, ..., 101, 104,  99],\n",
       "         [ 86,  83, 112, ...,  80,  83, 103],\n",
       "         [ 88,  74, 115, ..., 103,  92, 101],\n",
       "         ..., \n",
       "         [ 51, 103, 116, ..., 114, 100,  98],\n",
       "         [ 66,  85,  86, ..., 108,  94, 100],\n",
       "         [ 58,  65,  63, ...,  81,  86,  83]],\n",
       "\n",
       "        [[ 74, 108,  94, ..., 102, 108, 103],\n",
       "         [ 86,  80, 104, ...,  78,  84, 104],\n",
       "         [ 87,  69, 106, ...,  97,  89,  98],\n",
       "         ..., \n",
       "         [ 57, 109, 117, ..., 111,  96,  92],\n",
       "         [ 74,  92,  90, ..., 105,  90,  94],\n",
       "         [ 68,  72,  67, ...,  78,  81,  77]]],\n",
       "\n",
       "\n",
       "       [[[ 22,  24,  28, ..., 206, 237, 203],\n",
       "         [  9,  11,  20, ..., 211, 224, 214],\n",
       "         [  3,   2,  13, ..., 220, 216, 230],\n",
       "         ..., \n",
       "         [241, 242, 243, ..., 189, 217, 163],\n",
       "         [242, 242, 243, ..., 172, 212, 135],\n",
       "         [244, 244, 244, ..., 141,  91, 130]],\n",
       "\n",
       "        [[ 30,  29,  34, ..., 194, 225, 194],\n",
       "         [ 15,  17,  26, ..., 199, 212, 202],\n",
       "         [  7,   6,  17, ..., 206, 204, 218],\n",
       "         ..., \n",
       "         [225, 226, 227, ..., 165, 196, 144],\n",
       "         [227, 227, 228, ..., 148, 191, 114],\n",
       "         [229, 229, 229, ..., 115,  67, 109]],\n",
       "\n",
       "        [[ 32,  32,  34, ..., 182, 211, 179],\n",
       "         [ 15,  17,  26, ..., 187, 198, 188],\n",
       "         [  6,   5,  16, ..., 195, 190, 204],\n",
       "         ..., \n",
       "         [200, 201, 202, ..., 161, 191, 140],\n",
       "         [204, 204, 205, ..., 146, 188, 113],\n",
       "         [206, 206, 206, ..., 114,  67, 108]]]], dtype=uint8)"
      ]
     },
     "execution_count": 23,
     "metadata": {},
     "output_type": "execute_result"
    }
   ],
   "source": [
    "X"
   ]
  },
  {
   "cell_type": "code",
   "execution_count": null,
   "metadata": {
    "collapsed": true
   },
   "outputs": [],
   "source": []
  }
 ],
 "metadata": {
  "kernelspec": {
   "display_name": "Python 3",
   "language": "python",
   "name": "python3"
  },
  "language_info": {
   "codemirror_mode": {
    "name": "ipython",
    "version": 3
   },
   "file_extension": ".py",
   "mimetype": "text/x-python",
   "name": "python",
   "nbconvert_exporter": "python",
   "pygments_lexer": "ipython3",
   "version": "3.4.3"
  }
 },
 "nbformat": 4,
 "nbformat_minor": 0
}
